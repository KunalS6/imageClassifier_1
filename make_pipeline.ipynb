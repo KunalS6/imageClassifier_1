{
 "cells": [
  {
   "cell_type": "code",
   "execution_count": null,
   "metadata": {},
   "outputs": [],
   "source": [
    "import numpy as np\n",
    "import pandas as pd\n",
    "import scipy\n",
    "import sklearn\n",
    "from sklearn.pipeline import Pipeline\n",
    "import os\n",
    "\n",
    "#skimage\n",
    "import skimage\n",
    "import skimage.color\n",
    "import skimage.transform\n",
    "import skimage.feature\n"
   ]
  },
  {
   "cell_type": "code",
   "execution_count": null,
   "metadata": {},
   "outputs": [],
   "source": [
    "from sklearn.base import BaseEstimator,TransformerMixin\n",
    "\n",
    "class rgb2grayTransform(BaseEstimator,TransformerMixin):\n",
    "    import skimage.color\n",
    "    def __init__(self):\n",
    "        pass\n",
    "\n",
    "    def fit(self,X,y=None):\n",
    "        return self\n",
    "    def transform(self,X,y=None):\n",
    "        return [skimage.color.rgb2gray(ix) for ix in X]\n",
    "    \n",
    "class hogTransformer(BaseEstimator,TransformerMixin):\n",
    "    import skimage.feature\n",
    "    def __init__(self,orientations=9,pixels_per_cell=(8,8),cells_per_block=(3,3)):\n",
    "        self.orientations=orientations\n",
    "        self.pixels_per_cell=pixels_per_cell\n",
    "        self.cells_per_block=cells_per_block\n",
    "        pass\n",
    "\n",
    "    def fit(self,X,y=None):\n",
    "        return self\n",
    "    \n",
    "    def transform(self,X,y=None):\n",
    "        def local_hog(img):\n",
    "            hog_feature=skimage.feature.hog(img,orientations=self.orientations,\n",
    "                                pixels_per_cell=self.pixels_per_cell,\n",
    "                                cells_per_block=self.cells_per_block,\n",
    "                                )\n",
    "            return hog_feature\n",
    "        return np.array([local_hog(ix) for ix in X])"
   ]
  },
  {
   "cell_type": "code",
   "execution_count": null,
   "metadata": {},
   "outputs": [],
   "source": [
    "import matplotlib.pyplot as plt\n",
    "%matplotlib inline"
   ]
  },
  {
   "cell_type": "code",
   "execution_count": null,
   "metadata": {},
   "outputs": [],
   "source": [
    "#pipeline model\n",
    "\n",
    "image=skimage.io.imread('lion_3.jpg')\n",
    "\n",
    "#transform 80x80\n",
    "\n",
    "image_resize =skimage.transform.resize(image,(80,80),anti_aliasing=True)\n",
    "image_rescale=255*image_resize\n",
    "\n",
    "#skimage.transform.rescale\n",
    "\n",
    "#image_downscaled = skimage.transform.downscale_local_mean(image, (4, 3))\n",
    "#image_rescale=skimage.transform.rescale(image,0.25,anti_aliasing=True)\n",
    "\n",
    "image_transform=image_rescale.astype(np.uint8)\n",
    "\n",
    "#rgb to gray\n",
    "\n",
    "gray=skimage.color.rgb2gray(image_transform)\n",
    "\n",
    "#hog feature\n",
    "\n",
    "feature_vector=skimage.feature.hog(gray,orientations=10,\n",
    "                            pixels_per_cell=(8,8),\n",
    "                            cells_per_block=(2,2))\n",
    "\n",
    "\n"
   ]
  },
  {
   "cell_type": "code",
   "execution_count": null,
   "metadata": {},
   "outputs": [],
   "source": [
    "plt.imshow(gray)"
   ]
  },
  {
   "cell_type": "code",
   "execution_count": null,
   "metadata": {},
   "outputs": [],
   "source": [
    "import pickle\n",
    "model=pickle.load(open('dsa_image_classification_sgd.pickle','rb'))\n",
    "scaler=pickle.load(open('dsa_scaler.pickle','rb'))"
   ]
  },
  {
   "cell_type": "code",
   "execution_count": null,
   "metadata": {},
   "outputs": [],
   "source": [
    "model.get_params()"
   ]
  },
  {
   "cell_type": "code",
   "execution_count": null,
   "metadata": {},
   "outputs": [],
   "source": [
    "feature_vector.reshape"
   ]
  },
  {
   "cell_type": "code",
   "execution_count": null,
   "metadata": {},
   "outputs": [],
   "source": [
    "scalex=scaler.transform(feature_vector.reshape(1,-1))\n",
    "result=model.predict(scalex)"
   ]
  },
  {
   "cell_type": "code",
   "execution_count": null,
   "metadata": {},
   "outputs": [],
   "source": [
    "result"
   ]
  },
  {
   "cell_type": "code",
   "execution_count": null,
   "metadata": {},
   "outputs": [],
   "source": [
    "#calculate probability\n",
    "decision_value=model.decision_function(scalex)\n",
    "decision_value"
   ]
  },
  {
   "cell_type": "code",
   "execution_count": null,
   "metadata": {},
   "outputs": [],
   "source": [
    "label=model.classes_\n",
    "decision_value=decision_value.flatten()"
   ]
  },
  {
   "cell_type": "code",
   "execution_count": null,
   "metadata": {},
   "outputs": [],
   "source": [
    "plt.barh(label,decision_value)\n",
    "plt.grid()"
   ]
  },
  {
   "cell_type": "code",
   "execution_count": null,
   "metadata": {},
   "outputs": [],
   "source": [
    "#calculate z score\n",
    "z=scipy.stats.zscore(decision_value)\n",
    "prob_value=scipy.special.softmax(z)\n",
    "prob_value"
   ]
  },
  {
   "cell_type": "code",
   "execution_count": null,
   "metadata": {},
   "outputs": [],
   "source": [
    "plt.barh(label,prob_value)\n",
    "plt.grid()"
   ]
  },
  {
   "cell_type": "code",
   "execution_count": null,
   "metadata": {},
   "outputs": [],
   "source": [
    "prob_value.argsort()[::-1]"
   ]
  },
  {
   "cell_type": "code",
   "execution_count": null,
   "metadata": {},
   "outputs": [],
   "source": [
    "top_5_prob_ind=prob_value.argsort()[::-1][:5]"
   ]
  },
  {
   "cell_type": "code",
   "execution_count": null,
   "metadata": {},
   "outputs": [],
   "source": [
    "top_labels=label[top_5_prob_ind]\n",
    "top_prob=prob_value[top_5_prob_ind]\n",
    "top_prob,top_labels"
   ]
  },
  {
   "cell_type": "code",
   "execution_count": null,
   "metadata": {},
   "outputs": [],
   "source": [
    "top_dict=dict()\n",
    "for k,v in zip(top_labels,top_prob):\n",
    "    top_dict.update({k:np.round(v,4)})"
   ]
  },
  {
   "cell_type": "code",
   "execution_count": null,
   "metadata": {},
   "outputs": [],
   "source": [
    "top_dict"
   ]
  },
  {
   "cell_type": "code",
   "execution_count": null,
   "metadata": {},
   "outputs": [],
   "source": [
    "def pipeline_model(path,scaler_transform,model_sgd):\n",
    "    #pipeline model\n",
    "    image=skimage.io.imread(path)\n",
    "\n",
    "    #transform 80x80\n",
    "\n",
    "    image_resize =skimage.transform.resize(image,(80,80),anti_aliasing=True)\n",
    "    image_rescale=255*image_resize\n",
    "\n",
    "    #skimage.transform.rescale\n",
    "\n",
    "    #image_downscaled = skimage.transform.downscale_local_mean(image, (4, 3))\n",
    "    #image_rescale=skimage.transform.rescale(image,0.25,anti_aliasing=True)\n",
    "\n",
    "    image_transform=image_rescale.astype(np.uint8)\n",
    "\n",
    "    #rgb to gray\n",
    "\n",
    "    gray=skimage.color.rgb2gray(image_transform)\n",
    "\n",
    "    #hog feature\n",
    "\n",
    "    feature_vector=skimage.feature.hog(gray,orientations=10,\n",
    "                                pixels_per_cell=(8,8),\n",
    "                                cells_per_block=(2,2))\n",
    "    #scaling\n",
    "    scalex=scaler.transform(feature_vector.reshape(1,-1))\n",
    "\n",
    "    result=model.predict(scalex)\n",
    "    #calculate probability # confidence\n",
    "    decision_value=model.decision_function(scalex).flatten()\n",
    "    labels=model_sgd.classes_\n",
    "    \n",
    "    #calculate z score\n",
    "    z=scipy.stats.zscore(decision_value)\n",
    "    prob_value=scipy.special.softmax(z)\n",
    "    #top 5\n",
    "    top_5_prob_ind=prob_value.argsort()[::-1][:5]\n",
    "    top_labels=label[top_5_prob_ind]\n",
    "    top_prob=prob_value[top_5_prob_ind]\n",
    "    # put in a dictionary\n",
    "    top_dict=dict()\n",
    "    for k,v in zip(top_labels,top_prob):\n",
    "        top_dict.update({k:np.round(v,4)})\n",
    "    \n",
    "    \n",
    "\n",
    "    return top_dict\n"
   ]
  },
  {
   "cell_type": "code",
   "execution_count": null,
   "metadata": {},
   "outputs": [],
   "source": [
    "pipeline_model('image_cat_new.jpg',scaler,model)"
   ]
  },
  {
   "cell_type": "code",
   "execution_count": null,
   "metadata": {},
   "outputs": [],
   "source": []
  }
 ],
 "metadata": {
  "kernelspec": {
   "display_name": "base",
   "language": "python",
   "name": "python3"
  },
  "language_info": {
   "codemirror_mode": {
    "name": "ipython",
    "version": 3
   },
   "file_extension": ".py",
   "mimetype": "text/x-python",
   "name": "python",
   "nbconvert_exporter": "python",
   "pygments_lexer": "ipython3",
   "version": "3.10.9"
  },
  "orig_nbformat": 4
 },
 "nbformat": 4,
 "nbformat_minor": 2
}
